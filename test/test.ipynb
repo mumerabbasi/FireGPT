{
 "cells": [
  {
   "cell_type": "code",
   "execution_count": null,
   "id": "a66ff160",
   "metadata": {},
   "outputs": [],
   "source": [
    "import re, json, ast\n",
    "from typing import Tuple, Any, Optional\n",
    "\n",
    "# ── regexes ────────────────────────────────────────────────────────────────────\n",
    "_THINK_BLOCK = re.compile(r\"<think>.*?</think>\", re.DOTALL)\n",
    "_JSON_FENCE = re.compile(r\"```json\\s*(.*?)\\s*```\", re.DOTALL)\n",
    "_FIRST_BRACE_LIST = re.compile(r\"(\\{.*?\\}|\\[.*?\\])\", re.DOTALL)\n",
    "_COMMENT_LINE = re.compile(r\"//.*?(?=\\n|$)\")\n",
    "_TRAILING_COMMA = re.compile(r\",(\\s*[\\]}])\")\n",
    "\n",
    "# ── helpers ────────────────────────────────────────────────────────────────────\n",
    "def _strip_comments_and_commas(txt: str) -> str:\n",
    "    \"\"\"Remove //-style comments and any comma that comes *right* before ] or }.\"\"\"\n",
    "    txt = _COMMENT_LINE.sub(\"\", txt)\n",
    "    txt = _TRAILING_COMMA.sub(r\"\\1\", txt)\n",
    "    return txt\n",
    "\n",
    "# ── main entry point ───────────────────────────────────────────────────────────\n",
    "def parse_agent_reply(raw: str) -> Tuple[str, Optional[Any]]:\n",
    "    \"\"\"\n",
    "    Return (message_without_thinks, parsed_json_or_None).\n",
    "    \"\"\"\n",
    "    # 1Drop every <think>…</think>\n",
    "    message = _THINK_BLOCK.sub(\"\", raw).strip()\n",
    "\n",
    "    # Locate JSON text\n",
    "    m = _JSON_FENCE.search(message)\n",
    "    json_text = m.group(1) if m else None\n",
    "    if json_text is None:\n",
    "        m2 = _FIRST_BRACE_LIST.search(message)\n",
    "        json_text = m2.group(1) if m2 else None\n",
    "\n",
    "    # Parse, tolerating comments & trailing commas\n",
    "    data: Optional[Any] = None\n",
    "    if json_text:\n",
    "        cleaned = _strip_comments_and_commas(json_text)\n",
    "        try:\n",
    "            data = json.loads(cleaned)\n",
    "        except json.JSONDecodeError:\n",
    "            try:\n",
    "                data = ast.literal_eval(cleaned)\n",
    "            except Exception:\n",
    "                pass\n",
    "\n",
    "    return message, data\n"
   ]
  },
  {
   "cell_type": "code",
   "execution_count": 3,
   "id": "44e16b98",
   "metadata": {},
   "outputs": [],
   "source": [
    "str= \"\"\"<think>\n",
    "Okay, let's tackle this user's request. They provided a fire scenario with specific geographic coordinates and are asking for local SOPs and drone waypoints to contain the fire.\n",
    "</think>\n",
    "\n",
    "<think>\n",
    "Putting this all together: first call assess_fire_danger, then retrieve local SOPs, then generate safe waypoints based on the danger assessment and POI locations.\n",
    "</think>\n",
    "\n",
    "<think>\n",
    "yooooo\n",
    "</think>\n",
    "\n",
    "### 🔥 Local SOPs for High Fire Region (Based on Fire Danger Assessment)\n",
    "\n",
    "### 🚁 Drone Waypoints for Fire Containment (6-12 Safe Points)\n",
    "\n",
    "**Objective:** Create a perimeter of safe waypoints to monitor, suppress, and isolate the fire using drones while avoiding high-risk subgrids.\n",
    "\n",
    "#### ✅ **Waypoints (6-12 Points):**  \n",
    "**Ensure these points are in low-risk zones and avoid high-risk subgrids.**\n",
    "\n",
    "```json\n",
    "[\n",
    "  [47.742888, 7.959087], //SDSDSD\n",
    "  [47.743009, 7.959254], // SDSDS\n",
    "  [47.743675, 7.993508],\n",
    "  [47.744334, 7.969179],\n",
    "]\n",
    "```\n",
    "---\n",
    "\n",
    "### 🚨 **Safety Notes:**\n",
    "- **Avoid subgrids 5, 6, 11:** These have higher fire danger scores (≥ 45).\n",
    "- **Use drones near shelters** (e.g., Zellermooshütte, Tiefensohlenhütte) only if confirmed safe by fire danger assessment.\n",
    "- **Plan for real-time adjustments** based on fire spread patterns (e.g., wind direction, vegetation type).\"\"\""
   ]
  },
  {
   "cell_type": "code",
   "execution_count": 4,
   "id": "01c397f0",
   "metadata": {},
   "outputs": [
    {
     "name": "stdout",
     "output_type": "stream",
     "text": [
      "Message: ### 🔥 Local SOPs for High Fire Region (Based on Fire Danger Assessment)\n",
      "\n",
      "### 🚁 Drone Waypoints for Fire Containment (6-12 Safe Points)\n",
      "\n",
      "**Objective:** Create a perimeter of safe waypoints to monitor, suppress, and isolate the fire using drones while avoiding high-risk subgrids.\n",
      "\n",
      "#### ✅ **Waypoints (6-12 Points):**  \n",
      "**Ensure these points are in low-risk zones and avoid high-risk subgrids.**\n",
      "\n",
      "```json\n",
      "[\n",
      "  [47.742888, 7.959087], //SDSDSD\n",
      "  [47.743009, 7.959254], // SDSDS\n",
      "  [47.743675, 7.993508],\n",
      "  [47.744334, 7.969179],\n",
      "]\n",
      "```\n",
      "---\n",
      "\n",
      "### 🚨 **Safety Notes:**\n",
      "- **Avoid subgrids 5, 6, 11:** These have higher fire danger scores (≥ 45).\n",
      "- **Use drones near shelters** (e.g., Zellermooshütte, Tiefensohlenhütte) only if confirmed safe by fire danger assessment.\n",
      "- **Plan for real-time adjustments** based on fire spread patterns (e.g., wind direction, vegetation type).\n",
      "MESSAGE OVER\n",
      "Path List: [[47.742888, 7.959087], [47.743009, 7.959254], [47.743675, 7.993508], [47.744334, 7.969179]]\n"
     ]
    }
   ],
   "source": [
    "clean_msg, path_list = parse_agent_reply(str)\n",
    "print(f\"Message: {clean_msg}\")\n",
    "print(\"MESSAGE OVER\")\n",
    "print(f\"Path List: {path_list}\")"
   ]
  },
  {
   "cell_type": "code",
   "execution_count": 4,
   "id": "ffe53c2d",
   "metadata": {},
   "outputs": [
    {
     "name": "stdout",
     "output_type": "stream",
     "text": [
      "Path List: <class 'list'>\n"
     ]
    }
   ],
   "source": [
    "print(f\"Path List: {type(path_list)}\")"
   ]
  }
 ],
 "metadata": {
  "kernelspec": {
   "display_name": "ami",
   "language": "python",
   "name": "python3"
  },
  "language_info": {
   "codemirror_mode": {
    "name": "ipython",
    "version": 3
   },
   "file_extension": ".py",
   "mimetype": "text/x-python",
   "name": "python",
   "nbconvert_exporter": "python",
   "pygments_lexer": "ipython3",
   "version": "3.10.18"
  }
 },
 "nbformat": 4,
 "nbformat_minor": 5
}
